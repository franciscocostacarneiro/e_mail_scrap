{
 "cells": [
  {
   "cell_type": "markdown",
   "id": "2ce2b93c",
   "metadata": {},
   "source": [
    "# Leitura de e-mails do Gmail e salvando os anexos na pasta do diretório e inserindo a lista de e-mails no csv"
   ]
  },
  {
   "cell_type": "markdown",
   "id": "318de12f",
   "metadata": {},
   "source": [
    "### 1. Requerimentos"
   ]
  },
  {
   "cell_type": "code",
   "execution_count": null,
   "id": "619c03aa",
   "metadata": {
    "ExecuteTime": {
     "end_time": "2023-02-21T17:12:29.800621Z",
     "start_time": "2023-02-21T17:12:29.469004Z"
    }
   },
   "outputs": [],
   "source": [
    "from imbox import Imbox  # Importa a classe Imbox para acessar as mensagens do email\n",
    "from datetime import datetime  # Importa a classe datetime para trabalhar com as datas\n",
    "import pandas as pd  # Importa a biblioteca pandas para trabalhar com dados estruturados\n",
    "import os  # Importa a biblioteca os para manipulação do sistema operacional\n",
    "import csv  # Importa a biblioteca csv para trabalhar com arquivos CSV"
   ]
  },
  {
   "cell_type": "markdown",
   "id": "b143edba",
   "metadata": {},
   "source": [
    "### 2. Passa as credenciais da conta do gmail"
   ]
  },
  {
   "cell_type": "code",
   "execution_count": null,
   "id": "085eb03b",
   "metadata": {
    "ExecuteTime": {
     "end_time": "2023-02-21T17:12:31.417523Z",
     "start_time": "2023-02-21T17:12:31.411609Z"
    }
   },
   "outputs": [],
   "source": [
    "# Define as credenciais para acessar a conta de email\n",
    "username = 'cochico01@gmail.com'  # Define o nome do usuário do email\n",
    "password = open('pass', 'r').read()  # Lê a senha do arquivo 'pass'\n",
    "host = \"imap.gmail.com\"  # Define o servidor de email a ser acessado\n",
    "download_folder = \"anexos\"  # Define o diretório onde os anexos serão salvos"
   ]
  },
  {
   "cell_type": "markdown",
   "id": "7858aa11",
   "metadata": {},
   "source": [
    "### 3. Ligação entre a classe imbox com as credenciais"
   ]
  },
  {
   "cell_type": "code",
   "execution_count": null,
   "id": "bead60f0",
   "metadata": {
    "ExecuteTime": {
     "end_time": "2023-02-21T17:12:34.444753Z",
     "start_time": "2023-02-21T17:12:33.138259Z"
    }
   },
   "outputs": [],
   "source": [
    "# Cria uma instância da classe Imbox com as credenciais fornecidas\n",
    "mail = Imbox(host, username=username, password=password, ssl=True, ssl_context=None, starttls=False)"
   ]
  },
  {
   "cell_type": "markdown",
   "id": "d0d15f69",
   "metadata": {},
   "source": [
    "### 4. Acessando os e-mails"
   ]
  },
  {
   "cell_type": "code",
   "execution_count": null,
   "id": "b4048ee4",
   "metadata": {
    "ExecuteTime": {
     "end_time": "2023-02-21T17:12:37.573351Z",
     "start_time": "2023-02-21T17:12:37.157924Z"
    }
   },
   "outputs": [],
   "source": [
    "# Obtém uma lista de todos os emails na caixa de entrada\n",
    "messages = mail.messages()"
   ]
  },
  {
   "cell_type": "code",
   "execution_count": null,
   "id": "f6b17261",
   "metadata": {
    "ExecuteTime": {
     "end_time": "2023-02-21T17:12:38.339816Z",
     "start_time": "2023-02-21T17:12:38.328628Z"
    }
   },
   "outputs": [],
   "source": [
    "#Levantando o total de e-mails\n",
    "print(f\"Total dos e-mails acessados: {len(messages)}\")"
   ]
  },
  {
   "cell_type": "markdown",
   "id": "d31b03ee",
   "metadata": {},
   "source": [
    "### 5. Varrendo os e-mails"
   ]
  },
  {
   "cell_type": "code",
   "execution_count": null,
   "id": "3df815e3",
   "metadata": {
    "ExecuteTime": {
     "end_time": "2023-02-21T17:14:16.867217Z",
     "start_time": "2023-02-21T17:12:40.313272Z"
    }
   },
   "outputs": [],
   "source": [
    "# Loop pelos emails na caixa de entrada\n",
    "with open('emails.csv', 'w', newline='', encoding='utf-8') as csvfile:\n",
    "    writer = csv.writer(csvfile)  # Cria um objeto writer para trabalhar com o arquivo CSV\n",
    "    writer.writerow(['Subject', 'Date'])  # Escreve a primeira linha do arquivo CSV\n",
    "\n",
    "    for i, (uid, message) in enumerate(messages):\n",
    "        try:\n",
    "            sent_date = pd.to_datetime(message.date)  # Converte a data do email para um objeto datetime\n",
    "\n",
    "            # Imprime o título do email e a data de envio\n",
    "            print(f\"{i + 1}/{len(messages)} - {message.subject} - {sent_date}\")\n",
    "            \n",
    "            writer.writerow([message.subject, sent_date])  # Escreve as informações do email no arquivo CSV\n",
    "\n",
    "            # Loop pelos anexos do email\n",
    "            for attach in message.attachments:\n",
    "                if attach.get('content') is not None:  # Verifica se o anexo tem conteúdo\n",
    "                    file_name = attach.get('filename')  # Obtém o nome do arquivo\n",
    "                    file_path = os.path.join(download_folder, file_name)  # Cria o caminho completo do arquivo\n",
    "\n",
    "                    with open(file_path, \"wb\") as fp:\n",
    "                        fp.write(attach.get('content').read())  # Escreve o conteúdo do anexo no arquivo\n",
    "        except Exception as e:\n",
    "            print(f\"Erro ao processar email UID {uid}: {e}\")  # Imprime uma mensagem de erro caso ocorra uma exceção\n"
   ]
  },
  {
   "cell_type": "markdown",
   "id": "34831e23",
   "metadata": {},
   "source": [
    "### 6. Encerrando a varredura"
   ]
  },
  {
   "cell_type": "code",
   "execution_count": null,
   "id": "2783570d",
   "metadata": {},
   "outputs": [],
   "source": [
    "mail.logout()  # Fecha a conexão com o email"
   ]
  }
 ],
 "metadata": {
  "kernelspec": {
   "display_name": "Python 3 (ipykernel)",
   "language": "python",
   "name": "python3"
  },
  "language_info": {
   "codemirror_mode": {
    "name": "ipython",
    "version": 3
   },
   "file_extension": ".py",
   "mimetype": "text/x-python",
   "name": "python",
   "nbconvert_exporter": "python",
   "pygments_lexer": "ipython3",
   "version": "3.9.12"
  }
 },
 "nbformat": 4,
 "nbformat_minor": 5
}
